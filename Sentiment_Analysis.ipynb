{
  "cells": [
    {
      "cell_type": "code",
      "source": [
        "import pandas as pd\n",
        "from transformers import DistilBertTokenizer, DistilBertForSequenceClassification\n",
        "import torch\n",
        "import nltk\n",
        "from nltk.tokenize import word_tokenize\n",
        "nltk.download('punkt')\n",
        "nltk.download('stopwords')"
      ],
      "metadata": {
        "colab": {
          "base_uri": "https://localhost:8080/"
        },
        "id": "i1du6T9B7pfw",
        "outputId": "f0186219-2ad0-459a-dda9-f30d0f256dec"
      },
      "execution_count": 3,
      "outputs": [
        {
          "output_type": "stream",
          "name": "stderr",
          "text": [
            "[nltk_data] Downloading package punkt to /root/nltk_data...\n",
            "[nltk_data]   Unzipping tokenizers/punkt.zip.\n",
            "[nltk_data] Downloading package stopwords to /root/nltk_data...\n",
            "[nltk_data]   Unzipping corpora/stopwords.zip.\n"
          ]
        },
        {
          "output_type": "execute_result",
          "data": {
            "text/plain": [
              "True"
            ]
          },
          "metadata": {},
          "execution_count": 3
        }
      ]
    },
    {
      "cell_type": "code",
      "source": [
        "import csv\n",
        "\n",
        "# Open and read the CSV file using the csv module\n",
        "csv_file_path = \"Nasdaq_stocks.csv\"\n",
        "rows = []\n",
        "\n",
        "with open(csv_file_path, 'r', encoding='utf-8', errors='ignore') as csvfile:\n",
        "    csvreader = csv.reader(csvfile)\n",
        "    for row in csvreader:\n",
        "        rows.append(row)\n",
        "\n",
        "# Create a DataFrame from the list of rows\n",
        "stocks = pd.DataFrame(rows[1:], columns=rows[0])\n",
        "\n",
        "stocks.shape"
      ],
      "metadata": {
        "colab": {
          "base_uri": "https://localhost:8080/"
        },
        "id": "X_hBI0CL7tO3",
        "outputId": "e2a2333b-20fc-4dc6-c104-e7ec905fd1ae"
      },
      "execution_count": 17,
      "outputs": [
        {
          "output_type": "execute_result",
          "data": {
            "text/plain": [
              "(51024, 13)"
            ]
          },
          "metadata": {},
          "execution_count": 17
        }
      ]
    },
    {
      "cell_type": "code",
      "source": [
        "stocks_data = stocks[['Date','Article_title','Stock_symbol']]\n",
        "# Convert 'date' column to datetime type\n",
        "stocks_data.loc[:, 'Date'] = pd.to_datetime(stocks_data['Date'], utc=True)\n",
        "\n",
        "# Filter data for the years 2015 to 2023\n",
        "start_date = pd.Timestamp('2019-01-01',tz=\"UTC\")\n",
        "end_date = pd.Timestamp('2023-12-31',tz=\"UTC\")\n",
        "\n",
        "stocks_data = stocks_data[(stocks_data['Date'] >= start_date) & (stocks_data['Date'] <= end_date)]\n",
        "stocks_data.loc[:, 'Date'] = stocks_data['Date'].astype('str')\n",
        "# Extract date component as string 'YYYY-MM-DD' using string manipulation\n",
        "stocks_data.loc[:, 'Date'] = stocks_data['Date'].str.split().str[0]\n",
        "stocks_data.shape"
      ],
      "metadata": {
        "colab": {
          "base_uri": "https://localhost:8080/"
        },
        "id": "RVyyO9Ex7z6y",
        "outputId": "1d8b8d94-5a86-4d5b-fbb6-e9cdc5ad432d"
      },
      "execution_count": 20,
      "outputs": [
        {
          "output_type": "execute_result",
          "data": {
            "text/plain": [
              "(46498, 3)"
            ]
          },
          "metadata": {},
          "execution_count": 20
        }
      ]
    },
    {
      "cell_type": "code",
      "source": [
        "stocks_data = stocks_data.rename(columns={'Article_title': 'headlines'})\n",
        "stocks_data[\"Stock_symbol\"].value_counts()"
      ],
      "metadata": {
        "colab": {
          "base_uri": "https://localhost:8080/"
        },
        "id": "h-_KHe_V71GV",
        "outputId": "871a4fc0-5250-43e6-f3d3-04b85251c2de"
      },
      "execution_count": 21,
      "outputs": [
        {
          "output_type": "execute_result",
          "data": {
            "text/plain": [
              "Stock_symbol\n",
              "GOOG    9883\n",
              "NVDA    9533\n",
              "AAPL    9338\n",
              "INTC    9007\n",
              "MSFT    8737\n",
              "Name: count, dtype: int64"
            ]
          },
          "metadata": {},
          "execution_count": 21
        }
      ]
    },
    {
      "cell_type": "code",
      "source": [
        "# create preprocess_text function\n",
        "from nltk.corpus import stopwords\n",
        "nltk.download('stopwords')\n",
        "from nltk.stem import WordNetLemmatizer\n",
        "nltk.download('wordnet')\n",
        "\n",
        "# Get a list of English stopwords\n",
        "#stopwords = set(stopwords.words('english'))\n",
        "def preprocess_text(text):\n",
        "\n",
        "    # Tokenize the text\n",
        "    tokens = word_tokenize(text.lower())\n",
        "    # Remove stop words\n",
        "    filtered_tokens = [token for token in tokens if token not in stopwords.words('english')]\n",
        "\n",
        "    # Lemmatize the tokens\n",
        "    lemmatizer = WordNetLemmatizer()\n",
        "    lemmatized_tokens = [lemmatizer.lemmatize(token) for token in filtered_tokens]\n",
        "\n",
        "    # Join the tokens back into a string\n",
        "    processed_text = ' '.join(lemmatized_tokens)\n",
        "    return processed_text\n",
        "\n",
        "# apply the function stocks_data\n",
        "stocks_data['headlines'] = stocks_data['headlines'].apply(preprocess_text)"
      ],
      "metadata": {
        "colab": {
          "base_uri": "https://localhost:8080/"
        },
        "id": "A_ENZ2JW71D2",
        "outputId": "0a40a7c6-494c-427f-f818-509cecfdc3ea"
      },
      "execution_count": 22,
      "outputs": [
        {
          "output_type": "stream",
          "name": "stderr",
          "text": [
            "[nltk_data] Downloading package stopwords to /root/nltk_data...\n",
            "[nltk_data]   Package stopwords is already up-to-date!\n",
            "[nltk_data] Downloading package wordnet to /root/nltk_data...\n",
            "[nltk_data]   Package wordnet is already up-to-date!\n"
          ]
        }
      ]
    },
    {
      "cell_type": "code",
      "source": [
        "from transformers import DistilBertTokenizer, DistilBertForSequenceClassification\n",
        "import torch\n",
        "import gc"
      ],
      "metadata": {
        "id": "jQGPpAu59ohw"
      },
      "execution_count": 23,
      "outputs": []
    },
    {
      "cell_type": "code",
      "source": [
        "\n",
        "# Load pre-trained DistilBERT model and tokenizer\n",
        "tokenizer = DistilBertTokenizer.from_pretrained('distilbert-base-uncased')\n",
        "model = DistilBertForSequenceClassification.from_pretrained('distilbert-base-uncased')"
      ],
      "metadata": {
        "colab": {
          "base_uri": "https://localhost:8080/"
        },
        "id": "RC0B-ZSN71Ao",
        "outputId": "2bd27579-0e5b-4a36-97bd-8b0cdffb2aee"
      },
      "execution_count": 24,
      "outputs": [
        {
          "output_type": "stream",
          "name": "stderr",
          "text": [
            "Some weights of DistilBertForSequenceClassification were not initialized from the model checkpoint at distilbert-base-uncased and are newly initialized: ['classifier.bias', 'classifier.weight', 'pre_classifier.bias', 'pre_classifier.weight']\n",
            "You should probably TRAIN this model on a down-stream task to be able to use it for predictions and inference.\n"
          ]
        }
      ]
    },
    {
      "cell_type": "code",
      "source": [
        "# Function to encode headlines\n",
        "def encode_headlines(df):\n",
        "    inputs = tokenizer(df['headlines'].tolist(), padding=True, truncation=True, return_tensors=\"pt\")\n",
        "    return inputs"
      ],
      "metadata": {
        "id": "Qid8PMrQ709_"
      },
      "execution_count": 25,
      "outputs": []
    },
    {
      "cell_type": "code",
      "source": [
        "# Function to perform sentiment analysis\n",
        "def predict_sentiment(encoded_inputs):\n",
        "    with torch.no_grad():\n",
        "        outputs = model(**encoded_inputs)\n",
        "        predictions = torch.argmax(outputs.logits, dim=1)\n",
        "    return predictions\n",
        "\n",
        "# Function to map labels to sentiment\n",
        "def map_to_sentiment(labels):\n",
        "    sentiment_map = {0: \"Negative\", 1: \"Neutral\", 2: \"Positive\"}\n",
        "    return [sentiment_map[label.item()] for label in labels]"
      ],
      "metadata": {
        "id": "U2nh0TS3707Y"
      },
      "execution_count": 26,
      "outputs": []
    },
    {
      "cell_type": "code",
      "source": [
        "# Function to encode headlines and perform sentiment analysis on a batch\n",
        "def process_batch(df):\n",
        "    encoded_inputs = tokenizer(df['headlines'].tolist(), padding=True, truncation=True, return_tensors=\"pt\")\n",
        "    with torch.no_grad():\n",
        "        outputs = model(**encoded_inputs)\n",
        "        predictions = torch.argmax(outputs.logits, dim=1)\n",
        "    return predictions\n",
        "\n",
        "# Iterate over the DataFrame in chunks and process each chunk separately\n",
        "batch_size = 1000  # Adjust according to your available memory\n",
        "sentiments = []\n",
        "\n",
        "# Determine the number of chunks\n",
        "num_chunks = len(stocks_data) // batch_size + 1\n",
        "\n",
        "for i in range(num_chunks):\n",
        "    start_idx = i * batch_size\n",
        "    end_idx = (i + 1) * batch_size\n",
        "    chunk = stocks_data.iloc[start_idx:end_idx]\n",
        "    predictions = process_batch(chunk)\n",
        "    sentiments.extend(predictions)\n",
        "\n",
        "# Map labels to sentiment\n",
        "sentiments = map_to_sentiment(sentiments)\n",
        "\n",
        "# Add the sentiments to your dataframe\n",
        "stocks_data['Sentiment'] = sentiments\n",
        "\n",
        "# Print the dataframe with sentiments\n",
        "file_path = 'stocks_data_with_sentiment.csv'\n",
        "\n",
        "stocks_data.sample(10)\n",
        "# Write DataFrame to CSV\n",
        "stocks_data.to_csv(file_path, index=False)\n"
      ],
      "metadata": {
        "id": "AB3AbmYL704Q"
      },
      "execution_count": 27,
      "outputs": []
    },
    {
      "cell_type": "code",
      "source": [
        "from concurrent.futures import ThreadPoolExecutor\n",
        "\n",
        "# Function to process a single batch\n",
        "def process_batch(df):\n",
        "    encoded_inputs = tokenizer(df['headlines'].tolist(), padding=True, truncation=True, return_tensors=\"pt\")\n",
        "    with torch.no_grad():\n",
        "        outputs = model(**encoded_inputs)\n",
        "        predictions = torch.argmax(outputs.logits, dim=1)\n",
        "    return predictions\n",
        "\n",
        "# Iterate over the DataFrame in chunks and process each chunk separately in parallel\n",
        "batch_size = 1000  # Adjust according to your available memory\n",
        "sentiments = []\n",
        "\n",
        "# Determine the number of chunks\n",
        "num_chunks = len(stocks_data) // batch_size + 1\n",
        "\n",
        "# Process chunks in parallel\n",
        "with ThreadPoolExecutor() as executor:\n",
        "    futures = [executor.submit(process_batch, stocks_data.iloc[i * batch_size: (i + 1) * batch_size]) for i in range(num_chunks)]\n",
        "    for future in futures:\n",
        "        predictions = future.result()\n",
        "        sentiments.append(predictions)\n",
        "\n",
        "# Concatenate predictions\n",
        "sentiments = torch.cat(sentiments)\n",
        "\n",
        "# Map labels to sentiment\n",
        "sentiments = map_to_sentiment(sentiments)\n",
        "\n",
        "# Add the sentiments to your dataframe\n",
        "stocks_data['Sentiment'] = sentiments\n",
        "\n",
        "# Print the dataframe with sentiments\n",
        "file_path = 'stocks_data_with_sentiment.csv'\n",
        "\n",
        "stocks_data.sample(10)\n",
        "# Write DataFrame to CSV\n",
        "stocks_data.to_csv(file_path, index=False)\n"
      ],
      "metadata": {
        "id": "zSTtEhZCMigt"
      },
      "execution_count": 13,
      "outputs": []
    },
    {
      "cell_type": "code",
      "source": [
        "stocks_data[\"Sentiment\"].value_counts()"
      ],
      "metadata": {
        "colab": {
          "base_uri": "https://localhost:8080/"
        },
        "id": "GNs0rGzLQ6xn",
        "outputId": "00242c55-e442-41b1-e51a-340e97274331"
      },
      "execution_count": 30,
      "outputs": [
        {
          "output_type": "execute_result",
          "data": {
            "text/plain": [
              "Sentiment\n",
              "Neutral     44083\n",
              "Negative     2415\n",
              "Name: count, dtype: int64"
            ]
          },
          "metadata": {},
          "execution_count": 30
        }
      ]
    },
    {
      "cell_type": "code",
      "source": [
        "stocks_data.tail()"
      ],
      "metadata": {
        "colab": {
          "base_uri": "https://localhost:8080/",
          "height": 206
        },
        "id": "GHcxptfLSXVk",
        "outputId": "674c5f75-0e2c-4cee-bb3a-cbbcef504ca8"
      },
      "execution_count": 28,
      "outputs": [
        {
          "output_type": "execute_result",
          "data": {
            "text/plain": [
              "             Date                                          headlines  \\\n",
              "50715  2019-01-02                 's expect micron ( mu ) stock 2019   \n",
              "50716  2019-01-02  amd : top tech pick 2018 & p 500 's top perfor...   \n",
              "50717  2019-01-02  microsoft ( msft ) debut surface go india via ...   \n",
              "50718  2019-01-02  stock market future dive ; dow jones chipmaker...   \n",
              "50719  2019-01-01  dow jones future : 'let 's make deal ' trump f...   \n",
              "\n",
              "      Stock_symbol Sentiment  \n",
              "50715         INTC   Neutral  \n",
              "50716         INTC   Neutral  \n",
              "50717         INTC   Neutral  \n",
              "50718         INTC   Neutral  \n",
              "50719         INTC   Neutral  "
            ],
            "text/html": [
              "\n",
              "  <div id=\"df-df36cb7b-cab6-4e32-ab5f-55d8971ed855\" class=\"colab-df-container\">\n",
              "    <div>\n",
              "<style scoped>\n",
              "    .dataframe tbody tr th:only-of-type {\n",
              "        vertical-align: middle;\n",
              "    }\n",
              "\n",
              "    .dataframe tbody tr th {\n",
              "        vertical-align: top;\n",
              "    }\n",
              "\n",
              "    .dataframe thead th {\n",
              "        text-align: right;\n",
              "    }\n",
              "</style>\n",
              "<table border=\"1\" class=\"dataframe\">\n",
              "  <thead>\n",
              "    <tr style=\"text-align: right;\">\n",
              "      <th></th>\n",
              "      <th>Date</th>\n",
              "      <th>headlines</th>\n",
              "      <th>Stock_symbol</th>\n",
              "      <th>Sentiment</th>\n",
              "    </tr>\n",
              "  </thead>\n",
              "  <tbody>\n",
              "    <tr>\n",
              "      <th>50715</th>\n",
              "      <td>2019-01-02</td>\n",
              "      <td>'s expect micron ( mu ) stock 2019</td>\n",
              "      <td>INTC</td>\n",
              "      <td>Neutral</td>\n",
              "    </tr>\n",
              "    <tr>\n",
              "      <th>50716</th>\n",
              "      <td>2019-01-02</td>\n",
              "      <td>amd : top tech pick 2018 &amp; p 500 's top perfor...</td>\n",
              "      <td>INTC</td>\n",
              "      <td>Neutral</td>\n",
              "    </tr>\n",
              "    <tr>\n",
              "      <th>50717</th>\n",
              "      <td>2019-01-02</td>\n",
              "      <td>microsoft ( msft ) debut surface go india via ...</td>\n",
              "      <td>INTC</td>\n",
              "      <td>Neutral</td>\n",
              "    </tr>\n",
              "    <tr>\n",
              "      <th>50718</th>\n",
              "      <td>2019-01-02</td>\n",
              "      <td>stock market future dive ; dow jones chipmaker...</td>\n",
              "      <td>INTC</td>\n",
              "      <td>Neutral</td>\n",
              "    </tr>\n",
              "    <tr>\n",
              "      <th>50719</th>\n",
              "      <td>2019-01-01</td>\n",
              "      <td>dow jones future : 'let 's make deal ' trump f...</td>\n",
              "      <td>INTC</td>\n",
              "      <td>Neutral</td>\n",
              "    </tr>\n",
              "  </tbody>\n",
              "</table>\n",
              "</div>\n",
              "    <div class=\"colab-df-buttons\">\n",
              "\n",
              "  <div class=\"colab-df-container\">\n",
              "    <button class=\"colab-df-convert\" onclick=\"convertToInteractive('df-df36cb7b-cab6-4e32-ab5f-55d8971ed855')\"\n",
              "            title=\"Convert this dataframe to an interactive table.\"\n",
              "            style=\"display:none;\">\n",
              "\n",
              "  <svg xmlns=\"http://www.w3.org/2000/svg\" height=\"24px\" viewBox=\"0 -960 960 960\">\n",
              "    <path d=\"M120-120v-720h720v720H120Zm60-500h600v-160H180v160Zm220 220h160v-160H400v160Zm0 220h160v-160H400v160ZM180-400h160v-160H180v160Zm440 0h160v-160H620v160ZM180-180h160v-160H180v160Zm440 0h160v-160H620v160Z\"/>\n",
              "  </svg>\n",
              "    </button>\n",
              "\n",
              "  <style>\n",
              "    .colab-df-container {\n",
              "      display:flex;\n",
              "      gap: 12px;\n",
              "    }\n",
              "\n",
              "    .colab-df-convert {\n",
              "      background-color: #E8F0FE;\n",
              "      border: none;\n",
              "      border-radius: 50%;\n",
              "      cursor: pointer;\n",
              "      display: none;\n",
              "      fill: #1967D2;\n",
              "      height: 32px;\n",
              "      padding: 0 0 0 0;\n",
              "      width: 32px;\n",
              "    }\n",
              "\n",
              "    .colab-df-convert:hover {\n",
              "      background-color: #E2EBFA;\n",
              "      box-shadow: 0px 1px 2px rgba(60, 64, 67, 0.3), 0px 1px 3px 1px rgba(60, 64, 67, 0.15);\n",
              "      fill: #174EA6;\n",
              "    }\n",
              "\n",
              "    .colab-df-buttons div {\n",
              "      margin-bottom: 4px;\n",
              "    }\n",
              "\n",
              "    [theme=dark] .colab-df-convert {\n",
              "      background-color: #3B4455;\n",
              "      fill: #D2E3FC;\n",
              "    }\n",
              "\n",
              "    [theme=dark] .colab-df-convert:hover {\n",
              "      background-color: #434B5C;\n",
              "      box-shadow: 0px 1px 3px 1px rgba(0, 0, 0, 0.15);\n",
              "      filter: drop-shadow(0px 1px 2px rgba(0, 0, 0, 0.3));\n",
              "      fill: #FFFFFF;\n",
              "    }\n",
              "  </style>\n",
              "\n",
              "    <script>\n",
              "      const buttonEl =\n",
              "        document.querySelector('#df-df36cb7b-cab6-4e32-ab5f-55d8971ed855 button.colab-df-convert');\n",
              "      buttonEl.style.display =\n",
              "        google.colab.kernel.accessAllowed ? 'block' : 'none';\n",
              "\n",
              "      async function convertToInteractive(key) {\n",
              "        const element = document.querySelector('#df-df36cb7b-cab6-4e32-ab5f-55d8971ed855');\n",
              "        const dataTable =\n",
              "          await google.colab.kernel.invokeFunction('convertToInteractive',\n",
              "                                                    [key], {});\n",
              "        if (!dataTable) return;\n",
              "\n",
              "        const docLinkHtml = 'Like what you see? Visit the ' +\n",
              "          '<a target=\"_blank\" href=https://colab.research.google.com/notebooks/data_table.ipynb>data table notebook</a>'\n",
              "          + ' to learn more about interactive tables.';\n",
              "        element.innerHTML = '';\n",
              "        dataTable['output_type'] = 'display_data';\n",
              "        await google.colab.output.renderOutput(dataTable, element);\n",
              "        const docLink = document.createElement('div');\n",
              "        docLink.innerHTML = docLinkHtml;\n",
              "        element.appendChild(docLink);\n",
              "      }\n",
              "    </script>\n",
              "  </div>\n",
              "\n",
              "\n",
              "<div id=\"df-d5746cee-84d3-44a3-abdf-9364cf2c1004\">\n",
              "  <button class=\"colab-df-quickchart\" onclick=\"quickchart('df-d5746cee-84d3-44a3-abdf-9364cf2c1004')\"\n",
              "            title=\"Suggest charts\"\n",
              "            style=\"display:none;\">\n",
              "\n",
              "<svg xmlns=\"http://www.w3.org/2000/svg\" height=\"24px\"viewBox=\"0 0 24 24\"\n",
              "     width=\"24px\">\n",
              "    <g>\n",
              "        <path d=\"M19 3H5c-1.1 0-2 .9-2 2v14c0 1.1.9 2 2 2h14c1.1 0 2-.9 2-2V5c0-1.1-.9-2-2-2zM9 17H7v-7h2v7zm4 0h-2V7h2v10zm4 0h-2v-4h2v4z\"/>\n",
              "    </g>\n",
              "</svg>\n",
              "  </button>\n",
              "\n",
              "<style>\n",
              "  .colab-df-quickchart {\n",
              "      --bg-color: #E8F0FE;\n",
              "      --fill-color: #1967D2;\n",
              "      --hover-bg-color: #E2EBFA;\n",
              "      --hover-fill-color: #174EA6;\n",
              "      --disabled-fill-color: #AAA;\n",
              "      --disabled-bg-color: #DDD;\n",
              "  }\n",
              "\n",
              "  [theme=dark] .colab-df-quickchart {\n",
              "      --bg-color: #3B4455;\n",
              "      --fill-color: #D2E3FC;\n",
              "      --hover-bg-color: #434B5C;\n",
              "      --hover-fill-color: #FFFFFF;\n",
              "      --disabled-bg-color: #3B4455;\n",
              "      --disabled-fill-color: #666;\n",
              "  }\n",
              "\n",
              "  .colab-df-quickchart {\n",
              "    background-color: var(--bg-color);\n",
              "    border: none;\n",
              "    border-radius: 50%;\n",
              "    cursor: pointer;\n",
              "    display: none;\n",
              "    fill: var(--fill-color);\n",
              "    height: 32px;\n",
              "    padding: 0;\n",
              "    width: 32px;\n",
              "  }\n",
              "\n",
              "  .colab-df-quickchart:hover {\n",
              "    background-color: var(--hover-bg-color);\n",
              "    box-shadow: 0 1px 2px rgba(60, 64, 67, 0.3), 0 1px 3px 1px rgba(60, 64, 67, 0.15);\n",
              "    fill: var(--button-hover-fill-color);\n",
              "  }\n",
              "\n",
              "  .colab-df-quickchart-complete:disabled,\n",
              "  .colab-df-quickchart-complete:disabled:hover {\n",
              "    background-color: var(--disabled-bg-color);\n",
              "    fill: var(--disabled-fill-color);\n",
              "    box-shadow: none;\n",
              "  }\n",
              "\n",
              "  .colab-df-spinner {\n",
              "    border: 2px solid var(--fill-color);\n",
              "    border-color: transparent;\n",
              "    border-bottom-color: var(--fill-color);\n",
              "    animation:\n",
              "      spin 1s steps(1) infinite;\n",
              "  }\n",
              "\n",
              "  @keyframes spin {\n",
              "    0% {\n",
              "      border-color: transparent;\n",
              "      border-bottom-color: var(--fill-color);\n",
              "      border-left-color: var(--fill-color);\n",
              "    }\n",
              "    20% {\n",
              "      border-color: transparent;\n",
              "      border-left-color: var(--fill-color);\n",
              "      border-top-color: var(--fill-color);\n",
              "    }\n",
              "    30% {\n",
              "      border-color: transparent;\n",
              "      border-left-color: var(--fill-color);\n",
              "      border-top-color: var(--fill-color);\n",
              "      border-right-color: var(--fill-color);\n",
              "    }\n",
              "    40% {\n",
              "      border-color: transparent;\n",
              "      border-right-color: var(--fill-color);\n",
              "      border-top-color: var(--fill-color);\n",
              "    }\n",
              "    60% {\n",
              "      border-color: transparent;\n",
              "      border-right-color: var(--fill-color);\n",
              "    }\n",
              "    80% {\n",
              "      border-color: transparent;\n",
              "      border-right-color: var(--fill-color);\n",
              "      border-bottom-color: var(--fill-color);\n",
              "    }\n",
              "    90% {\n",
              "      border-color: transparent;\n",
              "      border-bottom-color: var(--fill-color);\n",
              "    }\n",
              "  }\n",
              "</style>\n",
              "\n",
              "  <script>\n",
              "    async function quickchart(key) {\n",
              "      const quickchartButtonEl =\n",
              "        document.querySelector('#' + key + ' button');\n",
              "      quickchartButtonEl.disabled = true;  // To prevent multiple clicks.\n",
              "      quickchartButtonEl.classList.add('colab-df-spinner');\n",
              "      try {\n",
              "        const charts = await google.colab.kernel.invokeFunction(\n",
              "            'suggestCharts', [key], {});\n",
              "      } catch (error) {\n",
              "        console.error('Error during call to suggestCharts:', error);\n",
              "      }\n",
              "      quickchartButtonEl.classList.remove('colab-df-spinner');\n",
              "      quickchartButtonEl.classList.add('colab-df-quickchart-complete');\n",
              "    }\n",
              "    (() => {\n",
              "      let quickchartButtonEl =\n",
              "        document.querySelector('#df-d5746cee-84d3-44a3-abdf-9364cf2c1004 button');\n",
              "      quickchartButtonEl.style.display =\n",
              "        google.colab.kernel.accessAllowed ? 'block' : 'none';\n",
              "    })();\n",
              "  </script>\n",
              "</div>\n",
              "\n",
              "    </div>\n",
              "  </div>\n"
            ],
            "application/vnd.google.colaboratory.intrinsic+json": {
              "type": "dataframe",
              "repr_error": "0"
            }
          },
          "metadata": {},
          "execution_count": 28
        }
      ]
    }
  ],
  "metadata": {
    "accelerator": "TPU",
    "colab": {
      "gpuType": "V28",
      "provenance": []
    },
    "kernelspec": {
      "display_name": "Python 3",
      "name": "python3"
    },
    "language_info": {
      "name": "python"
    }
  },
  "nbformat": 4,
  "nbformat_minor": 0
}