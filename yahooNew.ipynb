{
 "cells": [
  {
   "cell_type": "code",
   "execution_count": 29,
   "metadata": {},
   "outputs": [
    {
     "name": "stdout",
     "output_type": "stream",
     "text": [
      "Stock market today: Tech leads stock slide, Nvidia falls almost 4%\n",
      "Date with CDT Time: Wed, April 17, 2024 at 1:00 PM PDT\n"
     ]
    }
   ],
   "source": [
    "import requests\n",
    "import json\n",
    "from bs4 import BeautifulSoup\n",
    "\n",
    "def get_header(url):\n",
    "# Send a GET request to the URL\n",
    "    response = requests.get(url)\n",
    "    if response.status_code == 200:\n",
    "        soup = BeautifulSoup(response.text, 'html.parser')\n",
    "        title_tag = soup.find('title')\n",
    "        if title_tag:\n",
    "            print(title_tag.text)\n",
    "        else:\n",
    "            print(\"Title tag not found.\")        \n",
    "        li_tag = soup.find('li', class_='caas-liveblogpost')\n",
    "        if li_tag:\n",
    "            # Extract the 'data-lmt' attribute\n",
    "            data_lmt = li_tag.get('data-lmt')\n",
    "            if data_lmt:\n",
    "                # Parse the JSON data from the 'data-lmt' attribute\n",
    "                date_info = json.loads(data_lmt)\n",
    "                date_cdt = date_info['format']\n",
    "                print(\"Date with CDT Time:\", date_cdt)\n",
    "                \n",
    "        else:\n",
    "            print(\"Failed to retrieve the date\")\n",
    "#         title = soup.a['title']\n",
    "#         print(\"Title:\", title)\n",
    "\n",
    "#             # Date extraction hypothetical scenario\n",
    "#             # Assume you have another tag like <span class=\"date\">April 17, 2024</span> somewhere in the document:\n",
    "#             date_tag = soup.find('span', class_='date')\n",
    "#             if date_tag:\n",
    "#                 print(\"Date:\", date_tag.text)\n",
    "#             else:\n",
    "#                 print(\"No date found in HTML snippet.\")\n",
    "#                 else:\n",
    "#                     print(\"Failed to retrieve the web page. Status code:\", response.status_code)\n",
    "url = 'https://finance.yahoo.com/news/stock-market-today-tech-leads-stock-slide-nvidia-falls-almost-4-200416367.html'\n",
    "get_header(url)"
   ]
  },
  {
   "cell_type": "code",
   "execution_count": null,
   "metadata": {},
   "outputs": [],
   "source": [
    "import requests\n",
    "import json\n",
    "from bs4 import BeautifulSoup\n",
    "\n",
    "url = 'https://finance.yahoo.com/quote/AAPL/latest-news'\n",
    "\n",
    "response = requests.get(url)\n",
    "if response.status_code == 200:\n",
    "    soup = BeautifulSoup(response.text, 'html.parser')\n",
    "    stream_items = soup.find_all('li', attrs={'class':'stream-item svelte-7rcxn'})\n",
    "\n",
    "    # Iterate over each <li> element\n",
    "    for item in stream_items:\n",
    "        print(item.text)\n",
    "        # Extract title\n",
    "        '''\n",
    "        title = item.find('h3', class_='clamp').text.strip()\n",
    "        #content= item.find('p', class='clamp').text.strip()\n",
    "        print(\"Title:\", title)\n",
    "        #print('Headline:', content)\n",
    "        \n",
    "        # Extract date\n",
    "        date_span = item.find('div', class_='publishing').find_all('span')[2].text.strip()\n",
    "        print(\"Date:\", date_span)\n",
    "        \n",
    "'''\n",
    "else:\n",
    "    print('error')"
   ]
  },
  {
   "cell_type": "code",
   "execution_count": null,
   "metadata": {},
   "outputs": [],
   "source": [
    "from selenium import webdriver\n",
    "from selenium.webdriver.chrome.options import Options\n",
    "from selenium.webdriver.support.ui import WebDriverWait\n",
    "from selenium.webdriver.support import expected_conditions as EC\n",
    "from selenium.webdriver.common.by import By\n",
    "from time import sleep\n",
    "import pandas as pd"
   ]
  },
  {
   "cell_type": "code",
   "execution_count": 33,
   "metadata": {},
   "outputs": [
    {
     "ename": "AttributeError",
     "evalue": "ResultSet object has no attribute 'get_text'. You're probably treating a list of elements like a single element. Did you call find_all() when you meant to call find()?",
     "output_type": "error",
     "traceback": [
      "\u001b[0;31m---------------------------------------------------------------------------\u001b[0m",
      "\u001b[0;31mAttributeError\u001b[0m                            Traceback (most recent call last)",
      "Cell \u001b[0;32mIn[33], line 11\u001b[0m\n\u001b[1;32m      9\u001b[0m \u001b[38;5;66;03m# Ensure you target the correct container if there are multiple with the same class\u001b[39;00m\n\u001b[1;32m     10\u001b[0m stream_items \u001b[38;5;241m=\u001b[39m soup\u001b[38;5;241m.\u001b[39mfind_all(\u001b[38;5;124m'\u001b[39m\u001b[38;5;124mli\u001b[39m\u001b[38;5;124m'\u001b[39m, attrs\u001b[38;5;241m=\u001b[39m{\u001b[38;5;124m'\u001b[39m\u001b[38;5;124mclass\u001b[39m\u001b[38;5;124m'\u001b[39m: \u001b[38;5;124m'\u001b[39m\u001b[38;5;124mstream-item svelte-7rcxn\u001b[39m\u001b[38;5;124m'\u001b[39m})\n\u001b[0;32m---> 11\u001b[0m \u001b[38;5;28mprint\u001b[39m(\u001b[43mstream_items\u001b[49m\u001b[38;5;241;43m.\u001b[39;49m\u001b[43mget_text\u001b[49m())\n\u001b[1;32m     13\u001b[0m \u001b[38;5;124;03m'''\u001b[39;00m\n\u001b[1;32m     14\u001b[0m \u001b[38;5;124;03mfor item in stream_items:\u001b[39;00m\n\u001b[1;32m     15\u001b[0m \u001b[38;5;124;03m    try:\u001b[39;00m\n\u001b[0;32m   (...)\u001b[0m\n\u001b[1;32m     33\u001b[0m \u001b[38;5;124;03m        print(\"An error occurred:\", str(e))\u001b[39;00m\n\u001b[1;32m     34\u001b[0m \u001b[38;5;124;03m'''\u001b[39;00m\n",
      "File \u001b[0;32m~/opt/anaconda3/envs/pymc_env/lib/python3.11/site-packages/bs4/element.py:2433\u001b[0m, in \u001b[0;36mResultSet.__getattr__\u001b[0;34m(self, key)\u001b[0m\n\u001b[1;32m   2431\u001b[0m \u001b[38;5;28;01mdef\u001b[39;00m \u001b[38;5;21m__getattr__\u001b[39m(\u001b[38;5;28mself\u001b[39m, key):\n\u001b[1;32m   2432\u001b[0m \u001b[38;5;250m    \u001b[39m\u001b[38;5;124;03m\"\"\"Raise a helpful exception to explain a common code fix.\"\"\"\u001b[39;00m\n\u001b[0;32m-> 2433\u001b[0m     \u001b[38;5;28;01mraise\u001b[39;00m \u001b[38;5;167;01mAttributeError\u001b[39;00m(\n\u001b[1;32m   2434\u001b[0m         \u001b[38;5;124m\"\u001b[39m\u001b[38;5;124mResultSet object has no attribute \u001b[39m\u001b[38;5;124m'\u001b[39m\u001b[38;5;132;01m%s\u001b[39;00m\u001b[38;5;124m'\u001b[39m\u001b[38;5;124m. You\u001b[39m\u001b[38;5;124m'\u001b[39m\u001b[38;5;124mre probably treating a list of elements like a single element. Did you call find_all() when you meant to call find()?\u001b[39m\u001b[38;5;124m\"\u001b[39m \u001b[38;5;241m%\u001b[39m key\n\u001b[1;32m   2435\u001b[0m     )\n",
      "\u001b[0;31mAttributeError\u001b[0m: ResultSet object has no attribute 'get_text'. You're probably treating a list of elements like a single element. Did you call find_all() when you meant to call find()?"
     ]
    }
   ],
   "source": [
    "import requests\n",
    "from bs4 import BeautifulSoup\n",
    "\n",
    "url = 'https://finance.yahoo.com/quote/AAPL/latest-news'  \n",
    "response = requests.get(url)  \n",
    "#print(response.text)            \n",
    "soup = BeautifulSoup(response.text, 'html.parser')\n",
    "\n",
    "# Ensure you target the correct container if there are multiple with the same class\n",
    "stream_items = soup.find_all('li', attrs={'class': 'stream-item svelte-7rcxn'})\n",
    "\n",
    "\n",
    "'''\n",
    "for item in stream_items:\n",
    "    try:\n",
    "        title = item.get_text().find('h3', {'class':'clamp  svelte-13zydnsp'})\n",
    "        if title:\n",
    "            print(\"Title:\", title.text.strip())\n",
    "        else:\n",
    "            print(\"Title not found\")\n",
    "\n",
    "        # Extract the publishing details\n",
    "        publishing_info = item.get_text().find('div', {'class':'publishing'})\n",
    "        if publishing_info:\n",
    "            # Typically date is the last element, this fetches the last span which should be the date\n",
    "            date_text = publishing_info.find_all('span')[-1].text.strip()\n",
    "            print(\"Date:\", date_text)\n",
    "        else:\n",
    "            print(\"Publishing info not found\")\n",
    "\n",
    "        print()  # Just for separating outputs\n",
    "    except Exception as e:\n",
    "        print(\"An error occurred:\", str(e))\n",
    "'''"
   ]
  }
 ],
 "metadata": {
  "kernelspec": {
   "display_name": "pymc_env",
   "language": "python",
   "name": "python3"
  },
  "language_info": {
   "codemirror_mode": {
    "name": "ipython",
    "version": 3
   },
   "file_extension": ".py",
   "mimetype": "text/x-python",
   "name": "python",
   "nbconvert_exporter": "python",
   "pygments_lexer": "ipython3",
   "version": "3.11.8"
  }
 },
 "nbformat": 4,
 "nbformat_minor": 2
}
